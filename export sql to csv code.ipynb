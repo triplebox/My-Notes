{
 "cells": [
  {
   "cell_type": "code",
   "execution_count": 13,
   "id": "469f895b-efa4-4398-b93c-4102c8be9907",
   "metadata": {},
   "outputs": [
    {
     "name": "stderr",
     "output_type": "stream",
     "text": [
      "C:\\Users\\mikhwan1\\AppData\\Local\\Temp\\ipykernel_22568\\27382509.py:6: UserWarning: pandas only supports SQLAlchemy connectable (engine/connection) or database string URI or sqlite3 DBAPI2 connection. Other DBAPI2 objects are not tested. Please consider using SQLAlchemy.\n",
      "  sql_query = pd.read_sql_query(\n"
     ]
    }
   ],
   "source": [
    "import pyodbc \n",
    "import pandas as pd\n",
    "\n",
    "cnxn = pyodbc.connect('DSN=[DSN NAME];Trusted_Connection=yes;')\n",
    "\n",
    "sql_query = pd.read_sql_query(\n",
    "    \"\"\"\n",
    "    SELECT * FROM [your table here]\n",
    "    \"\"\",\n",
    "    cnxn\n",
    ")\n",
    "\n",
    "df = pd.DataFrame(sql_query)\n",
    "\n",
    "for i in range(round(len(df)/50000)): #This ensures all rows are captured\n",
    "   df.loc[i*50000:(i+1)*50000,:].to_csv('Stored_files_wab_'+str(i)+'.csv')   \n",
    "\n",
    "#cursor = cnxn.cursor()\n",
    "#cursor.execute('SELECT * FROM [your table here]')\n",
    "\n"
   ]
  },
  {
   "cell_type": "code",
   "execution_count": null,
   "id": "f6c3e836-be06-4b8f-86fe-ec97c3fbc739",
   "metadata": {},
   "outputs": [],
   "source": []
  }
 ],
 "metadata": {
  "kernelspec": {
   "display_name": "Python 3 (ipykernel)",
   "language": "python",
   "name": "python3"
  },
  "language_info": {
   "codemirror_mode": {
    "name": "ipython",
    "version": 3
   },
   "file_extension": ".py",
   "mimetype": "text/x-python",
   "name": "python",
   "nbconvert_exporter": "python",
   "pygments_lexer": "ipython3",
   "version": "3.12.4"
  }
 },
 "nbformat": 4,
 "nbformat_minor": 5
}
